{
 "cells": [
  {
   "cell_type": "markdown",
   "id": "066cd5a3",
   "metadata": {},
   "source": [
    "<div style=\"color:white;\n",
    "           display:fill;\n",
    "           border-radius:5px;\n",
    "           background-color:#000000;\n",
    "           font-size:110%;\n",
    "           font-family:Verdana;\n",
    "           letter-spacing:0.5px\">\n",
    "   \n",
    "\n",
    "<p style=\"padding: 10px;\n",
    "              color:white;\">\n",
    "        \n",
    "# <p style=\"text-align: center\"> INTRODUCTION  </p>\n",
    "### <p style=\"text-align: center\"> The 6 steps of Data Analysis is used to analysis and presentation.  </p>\n",
    "### <p style=\"text-align: center\"> Title: Amazon Bestseller Analysis  </p>\n",
    "### <p style=\"text-align: center\"> Author: Murat An  </p>\n",
    "### <p style=\"text-align: center\"> Date: 04/28/2023  </p>"
   ]
  },
  {
   "cell_type": "markdown",
   "id": "cd7889e6",
   "metadata": {},
   "source": [
    "<div style=\"color:white;\n",
    "           display:fill;\n",
    "           border-radius:5px;\n",
    "           background-color:#FFBF00;\n",
    "           font-size:110%;\n",
    "           font-family:Verdana;\n",
    "           letter-spacing:0.5px\">\n",
    "   \n",
    "\n",
    "<p style=\"padding: 10px;\n",
    "              color:white;\">\n",
    "        \n",
    "# <p style=\"text-align: center\"> STEP 1: ASK  </p>\n",
    "### We will ask questions "
   ]
  },
  {
   "cell_type": "markdown",
   "id": "3088b674",
   "metadata": {},
   "source": [
    "### Stakeholders : Editors and Authors\n",
    "### Which type of books have better selling capacity?\n",
    "### Dataset: Amazon Top 50 Best Selling Books\n",
    "\n",
    "\n",
    "#### We prepare a guide for authors who wants to determine which type of books are selling better so which type and genre are more profitable. \n"
   ]
  },
  {
   "cell_type": "markdown",
   "id": "dc4e0f82",
   "metadata": {},
   "source": [
    "<div style=\"color:white;\n",
    "           display:fill;\n",
    "           border-radius:5px;\n",
    "           background-color:#CD5C5C;\n",
    "           font-size:110%;\n",
    "           font-family:Verdana;\n",
    "           letter-spacing:0.5px\">\n",
    "\n",
    "<p style=\"padding: 10px;\n",
    "              color:white;\">\n",
    "        \n",
    "# <p style=\"text-align: center\"> STEP 2: PREPARE  </p>\n",
    "### We will prepare the data and actions"
   ]
  },
  {
   "cell_type": "markdown",
   "id": "c2fed8fd",
   "metadata": {},
   "source": [
    "### Dataset: [Amazon Top 50 Best Selling Books](https://www.kaggle.com/datasets/sootersaalu/amazon-top-50-bestselling-books-2009-2019) (made available by Souter Saalu under a CC0 license)\n",
    "#### Data about Amazon's bestselling books from 2009 to 2019, categorized into fiction and nonfiction. \n",
    "### Datatype: bestsellers with catergories.csv (Comma seperated values)"
   ]
  },
  {
   "cell_type": "markdown",
   "id": "f164c3af",
   "metadata": {},
   "source": [
    "<div style=\"color:white;\n",
    "           display:fill;\n",
    "           border-radius:5px;\n",
    "           background-color:#097969;\n",
    "           font-size:110%;\n",
    "           font-family:Verdana;\n",
    "           letter-spacing:0.5px\">\n",
    "\n",
    "<p style=\"padding: 10px;\n",
    "              color:white;\">\n",
    "        \n",
    "# <p style=\"text-align: center\"> STEP 3: PROCESS  </p>\n",
    "### We prepare and process the data by using python"
   ]
  },
  {
   "cell_type": "markdown",
   "id": "6a1420f5",
   "metadata": {},
   "source": [
    "The pandas, matplotlib, seaborn packages are installed"
   ]
  },
  {
   "cell_type": "code",
   "execution_count": 1,
   "id": "66711144",
   "metadata": {},
   "outputs": [],
   "source": [
    "import pandas as pd\n",
    "import seaborn as sns\n",
    "import matplotlib.pyplot as plt\n",
    "%matplotlib inline"
   ]
  },
  {
   "cell_type": "markdown",
   "id": "4269c740",
   "metadata": {},
   "source": [
    "Reading the data from csv file which downloaded from Kaggle"
   ]
  },
  {
   "cell_type": "code",
   "execution_count": 2,
   "id": "f39d6c9e",
   "metadata": {},
   "outputs": [
    {
     "data": {
      "text/html": [
       "<div>\n",
       "<style scoped>\n",
       "    .dataframe tbody tr th:only-of-type {\n",
       "        vertical-align: middle;\n",
       "    }\n",
       "\n",
       "    .dataframe tbody tr th {\n",
       "        vertical-align: top;\n",
       "    }\n",
       "\n",
       "    .dataframe thead th {\n",
       "        text-align: right;\n",
       "    }\n",
       "</style>\n",
       "<table border=\"1\" class=\"dataframe\">\n",
       "  <thead>\n",
       "    <tr style=\"text-align: right;\">\n",
       "      <th></th>\n",
       "      <th>Name</th>\n",
       "      <th>Author</th>\n",
       "      <th>User Rating</th>\n",
       "      <th>Reviews</th>\n",
       "      <th>Price</th>\n",
       "      <th>Year</th>\n",
       "      <th>Genre</th>\n",
       "    </tr>\n",
       "  </thead>\n",
       "  <tbody>\n",
       "    <tr>\n",
       "      <th>0</th>\n",
       "      <td>10-Day Green Smoothie Cleanse</td>\n",
       "      <td>JJ Smith</td>\n",
       "      <td>4.7</td>\n",
       "      <td>17350</td>\n",
       "      <td>8</td>\n",
       "      <td>2016</td>\n",
       "      <td>Non Fiction</td>\n",
       "    </tr>\n",
       "    <tr>\n",
       "      <th>1</th>\n",
       "      <td>11/22/63: A Novel</td>\n",
       "      <td>Stephen King</td>\n",
       "      <td>4.6</td>\n",
       "      <td>2052</td>\n",
       "      <td>22</td>\n",
       "      <td>2011</td>\n",
       "      <td>Fiction</td>\n",
       "    </tr>\n",
       "    <tr>\n",
       "      <th>2</th>\n",
       "      <td>12 Rules for Life: An Antidote to Chaos</td>\n",
       "      <td>Jordan B. Peterson</td>\n",
       "      <td>4.7</td>\n",
       "      <td>18979</td>\n",
       "      <td>15</td>\n",
       "      <td>2018</td>\n",
       "      <td>Non Fiction</td>\n",
       "    </tr>\n",
       "    <tr>\n",
       "      <th>3</th>\n",
       "      <td>1984 (Signet Classics)</td>\n",
       "      <td>George Orwell</td>\n",
       "      <td>4.7</td>\n",
       "      <td>21424</td>\n",
       "      <td>6</td>\n",
       "      <td>2017</td>\n",
       "      <td>Fiction</td>\n",
       "    </tr>\n",
       "    <tr>\n",
       "      <th>4</th>\n",
       "      <td>5,000 Awesome Facts (About Everything!) (Natio...</td>\n",
       "      <td>National Geographic Kids</td>\n",
       "      <td>4.8</td>\n",
       "      <td>7665</td>\n",
       "      <td>12</td>\n",
       "      <td>2019</td>\n",
       "      <td>Non Fiction</td>\n",
       "    </tr>\n",
       "  </tbody>\n",
       "</table>\n",
       "</div>"
      ],
      "text/plain": [
       "                                                Name  \\\n",
       "0                      10-Day Green Smoothie Cleanse   \n",
       "1                                  11/22/63: A Novel   \n",
       "2            12 Rules for Life: An Antidote to Chaos   \n",
       "3                             1984 (Signet Classics)   \n",
       "4  5,000 Awesome Facts (About Everything!) (Natio...   \n",
       "\n",
       "                     Author  User Rating  Reviews  Price  Year        Genre  \n",
       "0                  JJ Smith          4.7    17350      8  2016  Non Fiction  \n",
       "1              Stephen King          4.6     2052     22  2011      Fiction  \n",
       "2        Jordan B. Peterson          4.7    18979     15  2018  Non Fiction  \n",
       "3             George Orwell          4.7    21424      6  2017      Fiction  \n",
       "4  National Geographic Kids          4.8     7665     12  2019  Non Fiction  "
      ]
     },
     "execution_count": 2,
     "metadata": {},
     "output_type": "execute_result"
    }
   ],
   "source": [
    "data = pd.read_csv('bestsellers with categories.csv', index_col=False)\n",
    "data.head()"
   ]
  },
  {
   "cell_type": "markdown",
   "id": "b8c880c5",
   "metadata": {},
   "source": [
    "Learning about data count and statistics"
   ]
  },
  {
   "cell_type": "code",
   "execution_count": 3,
   "id": "d57cc3a1",
   "metadata": {},
   "outputs": [
    {
     "data": {
      "text/html": [
       "<div>\n",
       "<style scoped>\n",
       "    .dataframe tbody tr th:only-of-type {\n",
       "        vertical-align: middle;\n",
       "    }\n",
       "\n",
       "    .dataframe tbody tr th {\n",
       "        vertical-align: top;\n",
       "    }\n",
       "\n",
       "    .dataframe thead th {\n",
       "        text-align: right;\n",
       "    }\n",
       "</style>\n",
       "<table border=\"1\" class=\"dataframe\">\n",
       "  <thead>\n",
       "    <tr style=\"text-align: right;\">\n",
       "      <th></th>\n",
       "      <th>User Rating</th>\n",
       "      <th>Reviews</th>\n",
       "      <th>Price</th>\n",
       "      <th>Year</th>\n",
       "    </tr>\n",
       "  </thead>\n",
       "  <tbody>\n",
       "    <tr>\n",
       "      <th>count</th>\n",
       "      <td>550.000000</td>\n",
       "      <td>550.000000</td>\n",
       "      <td>550.000000</td>\n",
       "      <td>550.000000</td>\n",
       "    </tr>\n",
       "    <tr>\n",
       "      <th>mean</th>\n",
       "      <td>4.618364</td>\n",
       "      <td>11953.281818</td>\n",
       "      <td>13.100000</td>\n",
       "      <td>2014.000000</td>\n",
       "    </tr>\n",
       "    <tr>\n",
       "      <th>std</th>\n",
       "      <td>0.226980</td>\n",
       "      <td>11731.132017</td>\n",
       "      <td>10.842262</td>\n",
       "      <td>3.165156</td>\n",
       "    </tr>\n",
       "    <tr>\n",
       "      <th>min</th>\n",
       "      <td>3.300000</td>\n",
       "      <td>37.000000</td>\n",
       "      <td>0.000000</td>\n",
       "      <td>2009.000000</td>\n",
       "    </tr>\n",
       "    <tr>\n",
       "      <th>25%</th>\n",
       "      <td>4.500000</td>\n",
       "      <td>4058.000000</td>\n",
       "      <td>7.000000</td>\n",
       "      <td>2011.000000</td>\n",
       "    </tr>\n",
       "    <tr>\n",
       "      <th>50%</th>\n",
       "      <td>4.700000</td>\n",
       "      <td>8580.000000</td>\n",
       "      <td>11.000000</td>\n",
       "      <td>2014.000000</td>\n",
       "    </tr>\n",
       "    <tr>\n",
       "      <th>75%</th>\n",
       "      <td>4.800000</td>\n",
       "      <td>17253.250000</td>\n",
       "      <td>16.000000</td>\n",
       "      <td>2017.000000</td>\n",
       "    </tr>\n",
       "    <tr>\n",
       "      <th>max</th>\n",
       "      <td>4.900000</td>\n",
       "      <td>87841.000000</td>\n",
       "      <td>105.000000</td>\n",
       "      <td>2019.000000</td>\n",
       "    </tr>\n",
       "  </tbody>\n",
       "</table>\n",
       "</div>"
      ],
      "text/plain": [
       "       User Rating       Reviews       Price         Year\n",
       "count   550.000000    550.000000  550.000000   550.000000\n",
       "mean      4.618364  11953.281818   13.100000  2014.000000\n",
       "std       0.226980  11731.132017   10.842262     3.165156\n",
       "min       3.300000     37.000000    0.000000  2009.000000\n",
       "25%       4.500000   4058.000000    7.000000  2011.000000\n",
       "50%       4.700000   8580.000000   11.000000  2014.000000\n",
       "75%       4.800000  17253.250000   16.000000  2017.000000\n",
       "max       4.900000  87841.000000  105.000000  2019.000000"
      ]
     },
     "execution_count": 3,
     "metadata": {},
     "output_type": "execute_result"
    }
   ],
   "source": [
    "data.describe()"
   ]
  },
  {
   "cell_type": "markdown",
   "id": "dd100e1b",
   "metadata": {},
   "source": [
    "Checking for any missing values"
   ]
  },
  {
   "cell_type": "code",
   "execution_count": 4,
   "id": "091049c6",
   "metadata": {},
   "outputs": [
    {
     "data": {
      "text/plain": [
       "Name           False\n",
       "Author         False\n",
       "User Rating    False\n",
       "Reviews        False\n",
       "Price          False\n",
       "Year           False\n",
       "Genre          False\n",
       "dtype: bool"
      ]
     },
     "execution_count": 4,
     "metadata": {},
     "output_type": "execute_result"
    }
   ],
   "source": [
    "data.isnull().any()"
   ]
  },
  {
   "cell_type": "markdown",
   "id": "df98d252",
   "metadata": {},
   "source": [
    "Checking whether duplicates in authors or not"
   ]
  },
  {
   "cell_type": "code",
   "execution_count": 5,
   "id": "b17fd384",
   "metadata": {},
   "outputs": [
    {
     "data": {
      "text/plain": [
       "array(['Abraham Verghese', 'Adam Gasiewski', 'Adam Mansbach', 'Adir Levy',\n",
       "       'Admiral William H. McRaven', 'Adult Coloring Book Designs',\n",
       "       'Alan Moore', 'Alex Michaelides', 'Alice Schertle', 'Allie Brosh',\n",
       "       'American Psychiatric Association',\n",
       "       'American Psychological Association', 'Amor Towles', 'Amy Ramos',\n",
       "       'Amy Shields', 'Andy Weir', 'Angie Grace', 'Angie Thomas',\n",
       "       'Ann Voskamp', 'Ann Whitford Paul', 'Anthony Bourdain',\n",
       "       'Anthony Doerr', 'Atul Gawande', 'Audrey Niffenegger',\n",
       "       'B. J. Novak', 'Bessel van der Kolk M.D.', 'Bill Martin Jr.',\n",
       "       \"Bill O'Reilly\", 'Bill Simmons', 'Blue Star Coloring',\n",
       "       'Bob Woodward', 'Brandon Stanton', 'Brené Brown',\n",
       "       'Brian Kilmeade', 'Bruce Springsteen', 'Carol S. Dweck',\n",
       "       'Celeste Ng', 'Charlaine Harris', 'Charles Duhigg',\n",
       "       'Charles Krauthammer', 'Cheryl Strayed', 'Chip Gaines',\n",
       "       'Chip Heath', 'Chris Cleave', 'Chris Kyle', 'Chrissy Teigen',\n",
       "       'Christina Baker Kline', 'Christopher Paolini',\n",
       "       'Coloring Books for Adults', 'Craig Smith', 'Crispin Boyer', 'DK',\n",
       "       'Dale Carnegie', 'Dan Brown', 'Daniel H. Pink',\n",
       "       'Daniel James Brown', 'Daniel Kahneman', 'Daniel Lipkowitz',\n",
       "       'Dav Pilkey', 'Dave Ramsey', 'David Goggins', 'David Grann',\n",
       "       'David McCullough', 'David Perlmutter MD', 'David Platt',\n",
       "       'David Zinczenko', 'Deborah Diesen',\n",
       "       'Delegates of the Constitutional\\x85', 'Delia Owens',\n",
       "       'Dinah Bucholz', 'Don Miguel Ruiz', 'Donna Tartt', 'Doug Lemov',\n",
       "       'Dr. Seuss', 'Dr. Steven R Gundry MD', 'Drew Daywalt', 'E L James',\n",
       "       'Eben Alexander', 'Edward Klein', 'Edward M. Kennedy',\n",
       "       'Elie Wiesel', 'Elizabeth Strout', 'Emily Winfield Martin',\n",
       "       'Eric Carle', 'Eric Larson', 'Ernest Cline', 'F. A. Hayek',\n",
       "       'F. Scott Fitzgerald', 'Francis Chan', 'Fredrik Backman', 'Gallup',\n",
       "       'Garth Stein', 'Gary Chapman', 'Gayle Forman', 'Geneen Roth',\n",
       "       'George Orwell', 'George R. R. Martin', 'George R.R. Martin',\n",
       "       'George W. Bush', 'Giles Andreae', 'Gillian Flynn', 'Glenn Beck',\n",
       "       'Golden Books', 'Greg Mortenson', 'Harper Lee', 'Heidi Murkoff',\n",
       "       'Hillary Rodham Clinton', 'Hopscotch Girls', 'Howard Stern',\n",
       "       'Ian K. Smith M.D.', 'Ina Garten', 'J. D. Vance', 'J. K. Rowling',\n",
       "       'J.K. Rowling', 'JJ Smith', 'James Comey', 'James Dashner',\n",
       "       'James Patterson', 'Jay Asher', 'Jaycee Dugard', 'Jeff Kinney',\n",
       "       'Jen Sincero', 'Jennifer Smith', 'Jill Twiss', 'Jim Collins',\n",
       "       'Joanna Gaines', 'Joel Fuhrman MD', 'Johanna Basford',\n",
       "       'John Green', 'John Grisham', 'John Heilemann', 'Jon Meacham',\n",
       "       'Jon Stewart', 'Jonathan Cahn', 'Jordan B. Peterson',\n",
       "       'Julia Child', 'Justin Halpern', 'Kathryn Stockett',\n",
       "       'Keith Richards', 'Ken Follett', 'Kevin Kwan', 'Khaled Hosseini',\n",
       "       'Kristin Hannah', 'Larry Schweikart', 'Laura Hillenbrand',\n",
       "       'Laurel Randolph', 'Lin-Manuel Miranda', 'Lysa TerKeurst',\n",
       "       'M Prefontaine', \"Madeleine L'Engle\", 'Malcolm Gladwell',\n",
       "       'Margaret Atwood', 'Margaret Wise Brown', 'Marie Kondō',\n",
       "       'Marjorie Sarnat', 'Mark Hyman M.D.', 'Mark Manson', 'Mark Owen',\n",
       "       'Mark R. Levin', 'Mark Twain', 'Markus Zusak', 'Marty Noble',\n",
       "       'Mary Ann Shaffer', 'Maurice Sendak', 'Melissa Hartwig Urban',\n",
       "       'Michael Lewis', 'Michael Pollan', 'Michael Wolff',\n",
       "       'Michelle Obama', 'Mike Moreno', 'Mitch Albom', 'Muriel Barbery',\n",
       "       'Naomi Kleinberg', 'Nathan W. Pyle', 'National Geographic Kids',\n",
       "       'Neil deGrasse Tyson', 'Paper Peony Press', 'Patrick Lencioni',\n",
       "       'Patrick Thorpe', 'Paul Kalanithi', 'Paula Hawkins',\n",
       "       'Paula McLain', 'Paulo Coelho', 'Pete Souza', 'Peter A. Lillback',\n",
       "       'Phil Robertson', 'Pierre Dukan', 'Pretty Simple Press',\n",
       "       'R. J. Palacio', 'RH Disney', 'Rachel Hollis', 'Raina Telgemeier',\n",
       "       'Randall Munroe', 'Randy Pausch', 'Ray Bradbury', 'Rebecca Skloot',\n",
       "       'Ree Drummond', 'Rick Riordan', 'Rob Bell', 'Rob Elliott',\n",
       "       'Robert Jordan', 'Robert Munsch', 'Rod Campbell', 'Roger Priddy',\n",
       "       'Ron Chernow', 'Rupi Kaur', 'Rush Limbaugh', 'Samin Nosrat',\n",
       "       'Sandra Boynton', 'Sara Gruen', 'Sarah Palin', 'Sarah Young',\n",
       "       \"Sasha O'Hara\", 'Scholastic', 'School Zone',\n",
       "       'Sherri Duskey Rinker', 'Sheryl Sandberg', 'Silly Bear',\n",
       "       'Stephen Kendrick', 'Stephen King', 'Stephen R. Covey',\n",
       "       'Stephenie Meyer', 'Steve Harvey', 'Steven D. Levitt',\n",
       "       'Stieg Larsson', 'Susan Cain', 'Suzanne Collins',\n",
       "       'Ta-Nehisi Coates', 'Tara Westover', 'Tatiana de Rosnay',\n",
       "       'The College Board', 'The Staff of The Late Show with\\x85',\n",
       "       'The Washington Post', 'Thomas Campbell', 'Thomas Piketty',\n",
       "       'Thug Kitchen', 'Timothy Ferriss', 'Tina Fey', 'Todd Burpo',\n",
       "       'Tony Hsieh', 'Tucker Carlson', 'Veronica Roth',\n",
       "       'W. Cleon Skousen', 'Walter Isaacson', 'William Davis',\n",
       "       'William P. Young', 'Wizards RPG Team', 'Zhi Gang Sha'],\n",
       "      dtype=object)"
      ]
     },
     "execution_count": 5,
     "metadata": {},
     "output_type": "execute_result"
    }
   ],
   "source": [
    "authors = data['Author'].sort_values().unique()\n",
    "authors"
   ]
  },
  {
   "cell_type": "markdown",
   "id": "0c575065",
   "metadata": {},
   "source": [
    "Goerge R. R. Martin and J. K. Rowling have different spellings."
   ]
  },
  {
   "cell_type": "code",
   "execution_count": 6,
   "id": "4c9bfe4e",
   "metadata": {},
   "outputs": [],
   "source": [
    "data = data.replace('George R. R. Martin', 'George R.R. Martin')\n",
    "data = data.replace('J. K. Rowling', 'J.K. Rowling')"
   ]
  },
  {
   "cell_type": "markdown",
   "id": "6bafb892",
   "metadata": {},
   "source": [
    "After correcting the names we are dropping the duplicates and checking data size"
   ]
  },
  {
   "cell_type": "code",
   "execution_count": 7,
   "id": "ead145c0",
   "metadata": {},
   "outputs": [
    {
     "data": {
      "text/plain": [
       "((547, 7), (550, 7))"
      ]
     },
     "execution_count": 7,
     "metadata": {},
     "output_type": "execute_result"
    }
   ],
   "source": [
    "data.drop_duplicates(subset= ['Name', 'Author', 'Year']).shape, data.shape"
   ]
  },
  {
   "cell_type": "code",
   "execution_count": 8,
   "id": "0065ee59",
   "metadata": {},
   "outputs": [],
   "source": [
    "data.drop_duplicates(subset= ['Name', 'Author', 'Year'], inplace=True)"
   ]
  },
  {
   "cell_type": "markdown",
   "id": "8acdf9ff",
   "metadata": {},
   "source": [
    "<div style=\"color:white;\n",
    "           display:fill;\n",
    "           border-radius:5px;\n",
    "           background-color:#0047AB;\n",
    "           font-size:110%;\n",
    "           font-family:Verdana;\n",
    "           letter-spacing:0.5px\">\n",
    "\n",
    "<p style=\"padding: 10px;\n",
    "              color:white;\">\n",
    "        \n",
    "# <p style=\"text-align: center\"> STEP 4: ANALYZE  </p>\n",
    "### We analyze the data "
   ]
  },
  {
   "cell_type": "markdown",
   "id": "89709b7d",
   "metadata": {},
   "source": [
    "Looking at the statistics of data"
   ]
  },
  {
   "cell_type": "code",
   "execution_count": 9,
   "id": "899dac13",
   "metadata": {},
   "outputs": [
    {
     "data": {
      "text/html": [
       "<div>\n",
       "<style scoped>\n",
       "    .dataframe tbody tr th:only-of-type {\n",
       "        vertical-align: middle;\n",
       "    }\n",
       "\n",
       "    .dataframe tbody tr th {\n",
       "        vertical-align: top;\n",
       "    }\n",
       "\n",
       "    .dataframe thead th {\n",
       "        text-align: right;\n",
       "    }\n",
       "</style>\n",
       "<table border=\"1\" class=\"dataframe\">\n",
       "  <thead>\n",
       "    <tr style=\"text-align: right;\">\n",
       "      <th></th>\n",
       "      <th>User Rating</th>\n",
       "      <th>Reviews</th>\n",
       "      <th>Price</th>\n",
       "      <th>Year</th>\n",
       "    </tr>\n",
       "  </thead>\n",
       "  <tbody>\n",
       "    <tr>\n",
       "      <th>count</th>\n",
       "      <td>547.000000</td>\n",
       "      <td>547.000000</td>\n",
       "      <td>547.000000</td>\n",
       "      <td>547.000000</td>\n",
       "    </tr>\n",
       "    <tr>\n",
       "      <th>mean</th>\n",
       "      <td>4.617550</td>\n",
       "      <td>11846.945155</td>\n",
       "      <td>13.106033</td>\n",
       "      <td>2014.005484</td>\n",
       "    </tr>\n",
       "    <tr>\n",
       "      <th>std</th>\n",
       "      <td>0.227309</td>\n",
       "      <td>11621.690067</td>\n",
       "      <td>10.868162</td>\n",
       "      <td>3.171237</td>\n",
       "    </tr>\n",
       "    <tr>\n",
       "      <th>min</th>\n",
       "      <td>3.300000</td>\n",
       "      <td>37.000000</td>\n",
       "      <td>0.000000</td>\n",
       "      <td>2009.000000</td>\n",
       "    </tr>\n",
       "    <tr>\n",
       "      <th>25%</th>\n",
       "      <td>4.500000</td>\n",
       "      <td>4025.000000</td>\n",
       "      <td>7.000000</td>\n",
       "      <td>2011.000000</td>\n",
       "    </tr>\n",
       "    <tr>\n",
       "      <th>50%</th>\n",
       "      <td>4.700000</td>\n",
       "      <td>8491.000000</td>\n",
       "      <td>11.000000</td>\n",
       "      <td>2014.000000</td>\n",
       "    </tr>\n",
       "    <tr>\n",
       "      <th>75%</th>\n",
       "      <td>4.800000</td>\n",
       "      <td>17017.000000</td>\n",
       "      <td>16.000000</td>\n",
       "      <td>2017.000000</td>\n",
       "    </tr>\n",
       "    <tr>\n",
       "      <th>max</th>\n",
       "      <td>4.900000</td>\n",
       "      <td>87841.000000</td>\n",
       "      <td>105.000000</td>\n",
       "      <td>2019.000000</td>\n",
       "    </tr>\n",
       "  </tbody>\n",
       "</table>\n",
       "</div>"
      ],
      "text/plain": [
       "       User Rating       Reviews       Price         Year\n",
       "count   547.000000    547.000000  547.000000   547.000000\n",
       "mean      4.617550  11846.945155   13.106033  2014.005484\n",
       "std       0.227309  11621.690067   10.868162     3.171237\n",
       "min       3.300000     37.000000    0.000000  2009.000000\n",
       "25%       4.500000   4025.000000    7.000000  2011.000000\n",
       "50%       4.700000   8491.000000   11.000000  2014.000000\n",
       "75%       4.800000  17017.000000   16.000000  2017.000000\n",
       "max       4.900000  87841.000000  105.000000  2019.000000"
      ]
     },
     "execution_count": 9,
     "metadata": {},
     "output_type": "execute_result"
    }
   ],
   "source": [
    "data.describe()"
   ]
  },
  {
   "cell_type": "markdown",
   "id": "5b499815",
   "metadata": {},
   "source": [
    "### There are more non-finction books than fictions books"
   ]
  },
  {
   "cell_type": "code",
   "execution_count": 10,
   "id": "8fb07ed9",
   "metadata": {},
   "outputs": [
    {
     "data": {
      "text/plain": [
       "<AxesSubplot:xlabel='Genre'>"
      ]
     },
     "execution_count": 10,
     "metadata": {},
     "output_type": "execute_result"
    },
    {
     "data": {
      "image/png": "[encoded data removed]",
      "text/plain": [
       "<Figure size 432x288 with 1 Axes>"
      ]
     },
     "metadata": {
      "needs_background": "light"
     },
     "output_type": "display_data"
    }
   ],
   "source": [
    "data.groupby('Genre')['Name'].count().plot.bar()"
   ]
  },
  {
   "cell_type": "code",
   "execution_count": 11,
   "id": "8c6bcef4",
   "metadata": {},
   "outputs": [
    {
     "data": {
      "text/plain": [
       "<AxesSubplot:xlabel='Genre'>"
      ]
     },
     "execution_count": 11,
     "metadata": {},
     "output_type": "execute_result"
    },
    {
     "data": {
      "image/png": "[encoded data removed]",
      "text/plain": [
       "<Figure size 432x288 with 1 Axes>"
      ]
     },
     "metadata": {
      "needs_background": "light"
     },
     "output_type": "display_data"
    }
   ],
   "source": [
    "data.groupby('Genre').mean()[['User Rating', 'Price']].plot.bar()"
   ]
  },
  {
   "cell_type": "markdown",
   "id": "f509918d",
   "metadata": {},
   "source": [
    "The average rating of fiction and non-fiction books are close to each other but the price of non-fiction books is higher than fiction books."
   ]
  },
  {
   "cell_type": "code",
   "execution_count": 12,
   "id": "9db522b7",
   "metadata": {},
   "outputs": [
    {
     "data": {
      "text/plain": [
       "<AxesSubplot:xlabel='Year'>"
      ]
     },
     "execution_count": 12,
     "metadata": {},
     "output_type": "execute_result"
    },
    {
     "data": {
      "image/png": "[encoded data removed]",
      "text/plain": [
       "<Figure size 432x288 with 1 Axes>"
      ]
     },
     "metadata": {
      "needs_background": "light"
     },
     "output_type": "display_data"
    }
   ],
   "source": [
    "data.groupby('Year').mean()[['User Rating', 'Price']].plot.bar()"
   ]
  },
  {
   "cell_type": "markdown",
   "id": "12c33d20",
   "metadata": {},
   "source": [
    "### Best rated books in Fiction genre"
   ]
  },
  {
   "cell_type": "code",
   "execution_count": 13,
   "id": "f96b71ee",
   "metadata": {},
   "outputs": [
    {
     "data": {
      "text/html": [
       "<div>\n",
       "<style scoped>\n",
       "    .dataframe tbody tr th:only-of-type {\n",
       "        vertical-align: middle;\n",
       "    }\n",
       "\n",
       "    .dataframe tbody tr th {\n",
       "        vertical-align: top;\n",
       "    }\n",
       "\n",
       "    .dataframe thead th {\n",
       "        text-align: right;\n",
       "    }\n",
       "</style>\n",
       "<table border=\"1\" class=\"dataframe\">\n",
       "  <thead>\n",
       "    <tr style=\"text-align: right;\">\n",
       "      <th></th>\n",
       "      <th>Name</th>\n",
       "      <th>Author</th>\n",
       "      <th>User Rating</th>\n",
       "      <th>Reviews</th>\n",
       "      <th>Price</th>\n",
       "      <th>Year</th>\n",
       "      <th>Genre</th>\n",
       "    </tr>\n",
       "  </thead>\n",
       "  <tbody>\n",
       "    <tr>\n",
       "      <th>545</th>\n",
       "      <td>Wrecking Ball (Diary of a Wimpy Kid Book 14)</td>\n",
       "      <td>Jeff Kinney</td>\n",
       "      <td>4.9</td>\n",
       "      <td>9413</td>\n",
       "      <td>8</td>\n",
       "      <td>2019</td>\n",
       "      <td>Fiction</td>\n",
       "    </tr>\n",
       "    <tr>\n",
       "      <th>147</th>\n",
       "      <td>Goodnight, Goodnight Construction Site (Hardco...</td>\n",
       "      <td>Sherri Duskey Rinker</td>\n",
       "      <td>4.9</td>\n",
       "      <td>7038</td>\n",
       "      <td>7</td>\n",
       "      <td>2013</td>\n",
       "      <td>Fiction</td>\n",
       "    </tr>\n",
       "    <tr>\n",
       "      <th>476</th>\n",
       "      <td>The Very Hungry Caterpillar</td>\n",
       "      <td>Eric Carle</td>\n",
       "      <td>4.9</td>\n",
       "      <td>19546</td>\n",
       "      <td>5</td>\n",
       "      <td>2013</td>\n",
       "      <td>Fiction</td>\n",
       "    </tr>\n",
       "    <tr>\n",
       "      <th>477</th>\n",
       "      <td>The Very Hungry Caterpillar</td>\n",
       "      <td>Eric Carle</td>\n",
       "      <td>4.9</td>\n",
       "      <td>19546</td>\n",
       "      <td>5</td>\n",
       "      <td>2014</td>\n",
       "      <td>Fiction</td>\n",
       "    </tr>\n",
       "    <tr>\n",
       "      <th>478</th>\n",
       "      <td>The Very Hungry Caterpillar</td>\n",
       "      <td>Eric Carle</td>\n",
       "      <td>4.9</td>\n",
       "      <td>19546</td>\n",
       "      <td>5</td>\n",
       "      <td>2015</td>\n",
       "      <td>Fiction</td>\n",
       "    </tr>\n",
       "    <tr>\n",
       "      <th>479</th>\n",
       "      <td>The Very Hungry Caterpillar</td>\n",
       "      <td>Eric Carle</td>\n",
       "      <td>4.9</td>\n",
       "      <td>19546</td>\n",
       "      <td>5</td>\n",
       "      <td>2016</td>\n",
       "      <td>Fiction</td>\n",
       "    </tr>\n",
       "    <tr>\n",
       "      <th>480</th>\n",
       "      <td>The Very Hungry Caterpillar</td>\n",
       "      <td>Eric Carle</td>\n",
       "      <td>4.9</td>\n",
       "      <td>19546</td>\n",
       "      <td>5</td>\n",
       "      <td>2017</td>\n",
       "      <td>Fiction</td>\n",
       "    </tr>\n",
       "    <tr>\n",
       "      <th>481</th>\n",
       "      <td>The Very Hungry Caterpillar</td>\n",
       "      <td>Eric Carle</td>\n",
       "      <td>4.9</td>\n",
       "      <td>19546</td>\n",
       "      <td>5</td>\n",
       "      <td>2018</td>\n",
       "      <td>Fiction</td>\n",
       "    </tr>\n",
       "    <tr>\n",
       "      <th>482</th>\n",
       "      <td>The Very Hungry Caterpillar</td>\n",
       "      <td>Eric Carle</td>\n",
       "      <td>4.9</td>\n",
       "      <td>19546</td>\n",
       "      <td>5</td>\n",
       "      <td>2019</td>\n",
       "      <td>Fiction</td>\n",
       "    </tr>\n",
       "    <tr>\n",
       "      <th>486</th>\n",
       "      <td>The Wonderful Things You Will Be</td>\n",
       "      <td>Emily Winfield Martin</td>\n",
       "      <td>4.9</td>\n",
       "      <td>8842</td>\n",
       "      <td>10</td>\n",
       "      <td>2016</td>\n",
       "      <td>Fiction</td>\n",
       "    </tr>\n",
       "  </tbody>\n",
       "</table>\n",
       "</div>"
      ],
      "text/plain": [
       "                                                  Name                 Author  \\\n",
       "545       Wrecking Ball (Diary of a Wimpy Kid Book 14)            Jeff Kinney   \n",
       "147  Goodnight, Goodnight Construction Site (Hardco...   Sherri Duskey Rinker   \n",
       "476                        The Very Hungry Caterpillar             Eric Carle   \n",
       "477                        The Very Hungry Caterpillar             Eric Carle   \n",
       "478                        The Very Hungry Caterpillar             Eric Carle   \n",
       "479                        The Very Hungry Caterpillar             Eric Carle   \n",
       "480                        The Very Hungry Caterpillar             Eric Carle   \n",
       "481                        The Very Hungry Caterpillar             Eric Carle   \n",
       "482                        The Very Hungry Caterpillar             Eric Carle   \n",
       "486                   The Wonderful Things You Will Be  Emily Winfield Martin   \n",
       "\n",
       "     User Rating  Reviews  Price  Year    Genre  \n",
       "545          4.9     9413      8  2019  Fiction  \n",
       "147          4.9     7038      7  2013  Fiction  \n",
       "476          4.9    19546      5  2013  Fiction  \n",
       "477          4.9    19546      5  2014  Fiction  \n",
       "478          4.9    19546      5  2015  Fiction  \n",
       "479          4.9    19546      5  2016  Fiction  \n",
       "480          4.9    19546      5  2017  Fiction  \n",
       "481          4.9    19546      5  2018  Fiction  \n",
       "482          4.9    19546      5  2019  Fiction  \n",
       "486          4.9     8842     10  2016  Fiction  "
      ]
     },
     "execution_count": 13,
     "metadata": {},
     "output_type": "execute_result"
    }
   ],
   "source": [
    "data[data['Genre']=='Fiction' ].sort_values(by = 'User Rating', ascending=False)[:10]"
   ]
  },
  {
   "cell_type": "markdown",
   "id": "0d29feab",
   "metadata": {},
   "source": [
    "### Best rated book in Non-Fiction genre"
   ]
  },
  {
   "cell_type": "code",
   "execution_count": 14,
   "id": "74dde41d",
   "metadata": {},
   "outputs": [
    {
     "data": {
      "text/html": [
       "<div>\n",
       "<style scoped>\n",
       "    .dataframe tbody tr th:only-of-type {\n",
       "        vertical-align: middle;\n",
       "    }\n",
       "\n",
       "    .dataframe tbody tr th {\n",
       "        vertical-align: top;\n",
       "    }\n",
       "\n",
       "    .dataframe thead th {\n",
       "        text-align: right;\n",
       "    }\n",
       "</style>\n",
       "<table border=\"1\" class=\"dataframe\">\n",
       "  <thead>\n",
       "    <tr style=\"text-align: right;\">\n",
       "      <th></th>\n",
       "      <th>Name</th>\n",
       "      <th>Author</th>\n",
       "      <th>User Rating</th>\n",
       "      <th>Reviews</th>\n",
       "      <th>Price</th>\n",
       "      <th>Year</th>\n",
       "      <th>Genre</th>\n",
       "    </tr>\n",
       "  </thead>\n",
       "  <tbody>\n",
       "    <tr>\n",
       "      <th>521</th>\n",
       "      <td>Unfreedom of the Press</td>\n",
       "      <td>Mark R. Levin</td>\n",
       "      <td>4.9</td>\n",
       "      <td>5956</td>\n",
       "      <td>11</td>\n",
       "      <td>2019</td>\n",
       "      <td>Non Fiction</td>\n",
       "    </tr>\n",
       "    <tr>\n",
       "      <th>189</th>\n",
       "      <td>Jesus Calling: Enjoying Peace in His Presence ...</td>\n",
       "      <td>Sarah Young</td>\n",
       "      <td>4.9</td>\n",
       "      <td>19576</td>\n",
       "      <td>8</td>\n",
       "      <td>2013</td>\n",
       "      <td>Non Fiction</td>\n",
       "    </tr>\n",
       "    <tr>\n",
       "      <th>187</th>\n",
       "      <td>Jesus Calling: Enjoying Peace in His Presence ...</td>\n",
       "      <td>Sarah Young</td>\n",
       "      <td>4.9</td>\n",
       "      <td>19576</td>\n",
       "      <td>8</td>\n",
       "      <td>2011</td>\n",
       "      <td>Non Fiction</td>\n",
       "    </tr>\n",
       "    <tr>\n",
       "      <th>151</th>\n",
       "      <td>Hamilton: The Revolution</td>\n",
       "      <td>Lin-Manuel Miranda</td>\n",
       "      <td>4.9</td>\n",
       "      <td>5867</td>\n",
       "      <td>54</td>\n",
       "      <td>2016</td>\n",
       "      <td>Non Fiction</td>\n",
       "    </tr>\n",
       "    <tr>\n",
       "      <th>431</th>\n",
       "      <td>The Magnolia Story</td>\n",
       "      <td>Chip Gaines</td>\n",
       "      <td>4.9</td>\n",
       "      <td>7861</td>\n",
       "      <td>5</td>\n",
       "      <td>2016</td>\n",
       "      <td>Non Fiction</td>\n",
       "    </tr>\n",
       "    <tr>\n",
       "      <th>188</th>\n",
       "      <td>Jesus Calling: Enjoying Peace in His Presence ...</td>\n",
       "      <td>Sarah Young</td>\n",
       "      <td>4.9</td>\n",
       "      <td>19576</td>\n",
       "      <td>8</td>\n",
       "      <td>2012</td>\n",
       "      <td>Non Fiction</td>\n",
       "    </tr>\n",
       "    <tr>\n",
       "      <th>244</th>\n",
       "      <td>Obama: An Intimate Portrait</td>\n",
       "      <td>Pete Souza</td>\n",
       "      <td>4.9</td>\n",
       "      <td>3192</td>\n",
       "      <td>22</td>\n",
       "      <td>2017</td>\n",
       "      <td>Non Fiction</td>\n",
       "    </tr>\n",
       "    <tr>\n",
       "      <th>190</th>\n",
       "      <td>Jesus Calling: Enjoying Peace in His Presence ...</td>\n",
       "      <td>Sarah Young</td>\n",
       "      <td>4.9</td>\n",
       "      <td>19576</td>\n",
       "      <td>8</td>\n",
       "      <td>2014</td>\n",
       "      <td>Non Fiction</td>\n",
       "    </tr>\n",
       "    <tr>\n",
       "      <th>191</th>\n",
       "      <td>Jesus Calling: Enjoying Peace in His Presence ...</td>\n",
       "      <td>Sarah Young</td>\n",
       "      <td>4.9</td>\n",
       "      <td>19576</td>\n",
       "      <td>8</td>\n",
       "      <td>2015</td>\n",
       "      <td>Non Fiction</td>\n",
       "    </tr>\n",
       "    <tr>\n",
       "      <th>192</th>\n",
       "      <td>Jesus Calling: Enjoying Peace in His Presence ...</td>\n",
       "      <td>Sarah Young</td>\n",
       "      <td>4.9</td>\n",
       "      <td>19576</td>\n",
       "      <td>8</td>\n",
       "      <td>2016</td>\n",
       "      <td>Non Fiction</td>\n",
       "    </tr>\n",
       "  </tbody>\n",
       "</table>\n",
       "</div>"
      ],
      "text/plain": [
       "                                                  Name              Author  \\\n",
       "521                             Unfreedom of the Press       Mark R. Levin   \n",
       "189  Jesus Calling: Enjoying Peace in His Presence ...         Sarah Young   \n",
       "187  Jesus Calling: Enjoying Peace in His Presence ...         Sarah Young   \n",
       "151                           Hamilton: The Revolution  Lin-Manuel Miranda   \n",
       "431                                 The Magnolia Story         Chip Gaines   \n",
       "188  Jesus Calling: Enjoying Peace in His Presence ...         Sarah Young   \n",
       "244                        Obama: An Intimate Portrait          Pete Souza   \n",
       "190  Jesus Calling: Enjoying Peace in His Presence ...         Sarah Young   \n",
       "191  Jesus Calling: Enjoying Peace in His Presence ...         Sarah Young   \n",
       "192  Jesus Calling: Enjoying Peace in His Presence ...         Sarah Young   \n",
       "\n",
       "     User Rating  Reviews  Price  Year        Genre  \n",
       "521          4.9     5956     11  2019  Non Fiction  \n",
       "189          4.9    19576      8  2013  Non Fiction  \n",
       "187          4.9    19576      8  2011  Non Fiction  \n",
       "151          4.9     5867     54  2016  Non Fiction  \n",
       "431          4.9     7861      5  2016  Non Fiction  \n",
       "188          4.9    19576      8  2012  Non Fiction  \n",
       "244          4.9     3192     22  2017  Non Fiction  \n",
       "190          4.9    19576      8  2014  Non Fiction  \n",
       "191          4.9    19576      8  2015  Non Fiction  \n",
       "192          4.9    19576      8  2016  Non Fiction  "
      ]
     },
     "execution_count": 14,
     "metadata": {},
     "output_type": "execute_result"
    }
   ],
   "source": [
    "data[data['Genre']=='Non Fiction' ].sort_values(by = 'User Rating', ascending=False)[:10]"
   ]
  },
  {
   "cell_type": "markdown",
   "id": "137d8e39",
   "metadata": {},
   "source": [
    "### Best ratings over years"
   ]
  },
  {
   "cell_type": "code",
   "execution_count": 23,
   "id": "1fec3d2a",
   "metadata": {},
   "outputs": [
    {
     "name": "stdout",
     "output_type": "stream",
     "text": [
      "2009 :                Author  User Rating\n",
      "535    Maurice Sendak          4.8\n",
      "430  Stephen Kendrick          4.8\n",
      "228       Julia Child          4.8\n",
      "216     Mark R. Levin          4.8\n",
      "160       Mitch Albom          4.8\n",
      "402  Kathryn Stockett          4.8\n",
      "330  W. Cleon Skousen          4.8\n",
      "418      Rick Riordan          4.8\n",
      "72        Jeff Kinney          4.8\n",
      "80        Jeff Kinney          4.8\n",
      "2010 :                 Author  User Rating\n",
      "419       Rick Riordan          4.8\n",
      "515  Laura Hillenbrand          4.8\n",
      "511      Robert Jordan          4.8\n",
      "474        Jeff Kinney          4.8\n",
      "264       Rick Riordan          4.8\n",
      "428       Rick Riordan          4.8\n",
      "403   Kathryn Stockett          4.8\n",
      "407    Suzanne Collins          4.7\n",
      "340        Garth Stein          4.7\n",
      "284        David Platt          4.7\n",
      "2011 :                 Author  User Rating\n",
      "187        Sarah Young          4.9\n",
      "410    Suzanne Collins          4.8\n",
      "42         Jeff Kinney          4.8\n",
      "463       Rick Riordan          4.8\n",
      "404   Kathryn Stockett          4.8\n",
      "133      Adam Mansbach          4.8\n",
      "516  Laura Hillenbrand          4.8\n",
      "161         Todd Burpo          4.7\n",
      "469       Rick Riordan          4.7\n",
      "413     Rebecca Skloot          4.7\n",
      "2012 :                    Author  User Rating\n",
      "188           Sarah Young          4.9\n",
      "245             Dr. Seuss          4.9\n",
      "146  Sherri Duskey Rinker          4.9\n",
      "30             Ina Garten          4.8\n",
      "517     Laura Hillenbrand          4.8\n",
      "458          Rick Riordan          4.8\n",
      "448          Ree Drummond          4.8\n",
      "432          Rick Riordan          4.8\n",
      "411       Suzanne Collins          4.8\n",
      "365            John Green          4.7\n",
      "2013 :                    Author  User Rating\n",
      "476            Eric Carle          4.9\n",
      "246             Dr. Seuss          4.9\n",
      "147  Sherri Duskey Rinker          4.9\n",
      "189           Sarah Young          4.9\n",
      "420        Patrick Thorpe          4.9\n",
      "288         Rush Limbaugh          4.9\n",
      "71            Jeff Kinney          4.8\n",
      "360          Drew Daywalt          4.8\n",
      "505            Harper Lee          4.8\n",
      "446          Ree Drummond          4.8\n",
      "2014 :                  Author  User Rating\n",
      "247           Dr. Seuss          4.9\n",
      "190         Sarah Young          4.9\n",
      "477          Eric Carle          4.9\n",
      "289       Rush Limbaugh          4.9\n",
      "219      Alice Schertle          4.9\n",
      "518   Laura Hillenbrand          4.8\n",
      "506          Harper Lee          4.8\n",
      "361        Drew Daywalt          4.8\n",
      "351  Daniel James Brown          4.8\n",
      "349         B. J. Novak          4.8\n",
      "2015 :               Author  User Rating\n",
      "478       Eric Carle          4.9\n",
      "248        Dr. Seuss          4.9\n",
      "191      Sarah Young          4.9\n",
      "174  Brandon Stanton          4.9\n",
      "224    Robert Munsch          4.8\n",
      "123    Giles Andreae          4.8\n",
      "507       Harper Lee          4.8\n",
      "447     Ree Drummond          4.8\n",
      "437   Kristin Hannah          4.8\n",
      "362     Drew Daywalt          4.8\n",
      "2016 :                                Author  User Rating\n",
      "192                       Sarah Young          4.9\n",
      "431                       Chip Gaines          4.9\n",
      "157                      J.K. Rowling          4.9\n",
      "153                      J.K. Rowling          4.9\n",
      "486             Emily Winfield Martin          4.9\n",
      "151                Lin-Manuel Miranda          4.9\n",
      "249                         Dr. Seuss          4.9\n",
      "479                        Eric Carle          4.9\n",
      "358  Delegates of the Constitutional",
      "          4.8\n",
      "159                      J.K. Rowling          4.8\n",
      "2017 :                     Author  User Rating\n",
      "244             Pete Souza          4.9\n",
      "487  Emily Winfield Martin          4.9\n",
      "40         Bill Martin Jr.          4.9\n",
      "250              Dr. Seuss          4.9\n",
      "82              Dav Pilkey          4.9\n",
      "480             Eric Carle          4.9\n",
      "156           J.K. Rowling          4.9\n",
      "143    Margaret Wise Brown          4.8\n",
      "451         Deborah Diesen          4.8\n",
      "381            Jeff Kinney          4.8\n",
      "2018 :                     Author  User Rating\n",
      "207             Jill Twiss          4.9\n",
      "488  Emily Winfield Martin          4.9\n",
      "81              Dav Pilkey          4.9\n",
      "83              Dav Pilkey          4.9\n",
      "87              Dav Pilkey          4.9\n",
      "481             Eric Carle          4.9\n",
      "251              Dr. Seuss          4.9\n",
      "401           Angie Thomas          4.8\n",
      "328           Gary Chapman          4.8\n",
      "290           Samin Nosrat          4.8\n",
      "2019 :                     Author  User Rating\n",
      "41         Bill Martin Jr.          4.9\n",
      "545            Jeff Kinney          4.9\n",
      "84              Dav Pilkey          4.9\n",
      "85              Dav Pilkey          4.9\n",
      "86              Dav Pilkey          4.9\n",
      "303         Nathan W. Pyle          4.9\n",
      "521          Mark R. Levin          4.9\n",
      "252              Dr. Seuss          4.9\n",
      "489  Emily Winfield Martin          4.9\n",
      "482             Eric Carle          4.9\n"
     ]
    }
   ],
   "source": [
    "for i in range(2009,2020):\n",
    "    print(i, ':', data[data['Year']== i ].sort_values(by = 'User Rating', ascending=False).iloc[:10, 1:3])"
   ]
  },
  {
   "cell_type": "markdown",
   "id": "9c9f554a",
   "metadata": {},
   "source": [
    "<div style=\"color:white;\n",
    "           display:fill;\n",
    "           border-radius:5px;\n",
    "           background-color:#FFBF00;\n",
    "           font-size:110%;\n",
    "           font-family:Verdana;\n",
    "           letter-spacing:0.5px\">\n",
    "   \n",
    "\n",
    "<p style=\"padding: 10px;\n",
    "              color:white;\">\n",
    "        \n",
    "# <p style=\"text-align: center\"> STEP 5: SHARE  </p>\n",
    "### We visualize the results"
   ]
  },
  {
   "cell_type": "code",
   "execution_count": 15,
   "id": "a9613253",
   "metadata": {},
   "outputs": [
    {
     "data": {
      "text/plain": [
       "<seaborn.axisgrid.FacetGrid at 0x2dd640c2700>"
      ]
     },
     "execution_count": 15,
     "metadata": {},
     "output_type": "execute_result"
    },
    {
     "data": {
      "image/png": "[encoded data removed]",
      "text/plain": [
       "<Figure size 631.5x360 with 1 Axes>"
      ]
     },
     "metadata": {
      "needs_background": "light"
     },
     "output_type": "display_data"
    }
   ],
   "source": [
    "sns.displot(data= data, x = 'User Rating', hue = 'Genre', kind='kde', fill=True, aspect = 1.5)"
   ]
  },
  {
   "cell_type": "markdown",
   "id": "fce23ea2",
   "metadata": {},
   "source": [
    "It shows that fiction books tend to have higher rating than non-fiction books"
   ]
  },
  {
   "cell_type": "code",
   "execution_count": 16,
   "id": "88bcc156",
   "metadata": {},
   "outputs": [
    {
     "data": {
      "text/plain": [
       "<AxesSubplot:ylabel='User Rating'>"
      ]
     },
     "execution_count": 16,
     "metadata": {},
     "output_type": "execute_result"
    },
    {
     "data": {
      "image/png": "[encoded data removed]",
      "text/plain": [
       "<Figure size 432x288 with 1 Axes>"
      ]
     },
     "metadata": {},
     "output_type": "display_data"
    }
   ],
   "source": [
    "data.groupby('Genre').mean()['User Rating'].plot.pie()"
   ]
  },
  {
   "cell_type": "code",
   "execution_count": 17,
   "id": "b7ffdfeb",
   "metadata": {},
   "outputs": [
    {
     "data": {
      "text/plain": [
       "<AxesSubplot:ylabel='Price'>"
      ]
     },
     "execution_count": 17,
     "metadata": {},
     "output_type": "execute_result"
    },
    {
     "data": {
      "image/png": "[encoded data removed]",
      "text/plain": [
       "<Figure size 432x288 with 1 Axes>"
      ]
     },
     "metadata": {},
     "output_type": "display_data"
    }
   ],
   "source": [
    "data.groupby('Genre').mean()['Price'].plot.pie()"
   ]
  },
  {
   "cell_type": "code",
   "execution_count": 18,
   "id": "411bc9e6",
   "metadata": {},
   "outputs": [
    {
     "data": {
      "text/plain": [
       "<AxesSubplot:ylabel='Reviews'>"
      ]
     },
     "execution_count": 18,
     "metadata": {},
     "output_type": "execute_result"
    },
    {
     "data": {
      "image/png": "[encoded data removed]",
      "text/plain": [
       "<Figure size 432x288 with 1 Axes>"
      ]
     },
     "metadata": {},
     "output_type": "display_data"
    }
   ],
   "source": [
    "data.groupby('Genre').mean()['Reviews'].plot.pie()"
   ]
  },
  {
   "cell_type": "code",
   "execution_count": 23,
   "id": "1424a92a",
   "metadata": {},
   "outputs": [
    {
     "data": {
      "text/plain": [
       "<AxesSubplot:xlabel='User Rating', ylabel='Price'>"
      ]
     },
     "execution_count": 23,
     "metadata": {},
     "output_type": "execute_result"
    },
    {
     "data": {
      "image/png": "[encoded data removed]",
      "text/plain": [
       "<Figure size 432x288 with 1 Axes>"
      ]
     },
     "metadata": {
      "needs_background": "light"
     },
     "output_type": "display_data"
    }
   ],
   "source": [
    "sns.scatterplot(data = data, x = 'User Rating', y = 'Price', hue= 'Genre')"
   ]
  },
  {
   "cell_type": "markdown",
   "id": "10da2073",
   "metadata": {},
   "source": [
    "Non-fiction books tend to have higher price and usually high price books have better rating"
   ]
  },
  {
   "cell_type": "code",
   "execution_count": 24,
   "id": "f33c6a0a",
   "metadata": {},
   "outputs": [
    {
     "data": {
      "text/plain": [
       "<AxesSubplot:xlabel='Reviews', ylabel='Price'>"
      ]
     },
     "execution_count": 24,
     "metadata": {},
     "output_type": "execute_result"
    },
    {
     "data": {
      "image/png": "[encoded data removed]",
      "text/plain": [
       "<Figure size 432x288 with 1 Axes>"
      ]
     },
     "metadata": {
      "needs_background": "light"
     },
     "output_type": "display_data"
    }
   ],
   "source": [
    "sns.scatterplot(data = data, x = 'Reviews', y = 'Price', hue= 'Genre')"
   ]
  },
  {
   "cell_type": "markdown",
   "id": "2e88aa4e",
   "metadata": {},
   "source": [
    "Fiction books tend to have more reviews and higher price books have less reviews"
   ]
  },
  {
   "cell_type": "markdown",
   "id": "90b61b46",
   "metadata": {},
   "source": [
    "<div style=\"color:white;\n",
    "           display:fill;\n",
    "           border-radius:5px;\n",
    "           background-color:#CD5C5C;\n",
    "           font-size:110%;\n",
    "           font-family:Verdana;\n",
    "           letter-spacing:0.5px\">\n",
    "\n",
    "<p style=\"padding: 10px;\n",
    "              color:white;\">\n",
    "        \n",
    "# <p style=\"text-align: center\"> STEP 6: ACT  </p>\n",
    "### We will deliver our insights and provide recommendations"
   ]
  },
  {
   "cell_type": "markdown",
   "id": "0bbbd4af",
   "metadata": {},
   "source": [
    "1- Overall, fiction books tend to have better ratings. The price of non fiction books is higher but there are more reviews on fiction books that is people are reading them more or there are more fiction books."
   ]
  },
  {
   "cell_type": "markdown",
   "id": "b81e3617",
   "metadata": {},
   "source": [
    "2- Usually high priced books tend to have high ratings between 4.4 and 5.0 but not the highest ratings."
   ]
  },
  {
   "cell_type": "markdown",
   "id": "1719ef14",
   "metadata": {},
   "source": [
    "3- Price and the number reviews are not correlated but usually high price books have less reviews."
   ]
  },
  {
   "cell_type": "markdown",
   "id": "e7d513ca",
   "metadata": {},
   "source": [
    "### Recommendations for Authors for choosing which type of books to write. \n",
    "- Non fiction books can be sold for higher price.\n",
    "- Fiction books can be sold in higher quantity can return more money even with less price.\n",
    "- There is less compatation in Non fiction books."
   ]
  },
  {
   "cell_type": "code",
   "execution_count": null,
   "id": "7a553676",
   "metadata": {},
   "outputs": [],
   "source": []
  }
 ],
 "metadata": {
  "kernelspec": {
   "display_name": "Python 3 (ipykernel)",
   "language": "python",
   "name": "python3"
  },
  "language_info": {
   "codemirror_mode": {
    "name": "ipython",
    "version": 3
   },
   "file_extension": ".py",
   "mimetype": "text/x-python",
   "name": "python",
   "nbconvert_exporter": "python",
   "pygments_lexer": "ipython3",
   "version": "3.9.7"
  }
 },
 "nbformat": 4,
 "nbformat_minor": 5
}
